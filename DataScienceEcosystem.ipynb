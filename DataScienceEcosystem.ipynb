{
 "cells": [
  {
   "cell_type": "markdown",
   "id": "fc150091-c5f9-4588-9c49-2cdb0b37e973",
   "metadata": {},
   "source": [
    "# Data Science Tools and Ecosystem"
   ]
  },
  {
   "cell_type": "markdown",
   "id": "6c667de5-7ef5-4354-ac23-23c5a801fc48",
   "metadata": {},
   "source": [
    "In this notebook, Data Science Tools and Ecosystem are summarized."
   ]
  },
  {
   "cell_type": "markdown",
   "id": "37de85d2-3d54-4a01-9b9e-ad62f74210a6",
   "metadata": {},
   "source": [
    "<b>Objectives:</b>\n",
    "<ul>\n",
    "    <li>List popular languages for Data Science</li>\n",
    "    <li>List commonly used libraries for Data Science</li>\n",
    "    <li>List open-source tools for Data Science</li>\n",
    "    <li>Evaluating Arithmetic expressions in Python</li>\n",
    "</ul>"
   ]
  },
  {
   "cell_type": "markdown",
   "id": "d03fc31f-a4e9-4dd8-bc26-aa8b2892f359",
   "metadata": {},
   "source": [
    "Some of the popular languages that Data Scientists use are:\n",
    "1. Python\n",
    "2. R\n",
    "3. SQL\n",
    "4. C ++\n",
    "5. Scala\n",
    "6. Java\n",
    "7. JavaScript\n",
    "8. Julia\n",
    "9. Apache Spark"
   ]
  },
  {
   "cell_type": "markdown",
   "id": "d4356a66-1d91-4bb2-b63e-3884a8de24c3",
   "metadata": {},
   "source": [
    "Some of the commonly used libraries used by Data Scientists include:\n",
    "1. Pandas\n",
    "2. Matplotlib\n",
    "3. scikit-learn\n",
    "4. Apache Spark\n",
    "5. Vegas\n",
    "6. ggplot2"
   ]
  },
  {
   "cell_type": "markdown",
   "id": "9d6308c6-20c3-433f-b7b6-2e2c060d94a3",
   "metadata": {},
   "source": [
    "| Data Science Tools |\n",
    "|--------------------|\n",
    "| Jupyter |\n",
    "| R-Studio |\n",
    "| Spyder |"
   ]
  },
  {
   "cell_type": "markdown",
   "id": "514cc1a9-9587-409c-99e6-ceead470b7f8",
   "metadata": {},
   "source": [
    "### Below are a few examples of evaluating arithmetic expressions in Python"
   ]
  },
  {
   "cell_type": "code",
   "execution_count": 4,
   "id": "0df1366f-7b05-4ea8-9b94-d81e45c21dee",
   "metadata": {},
   "outputs": [
    {
     "data": {
      "text/plain": [
       "17"
      ]
     },
     "execution_count": 4,
     "metadata": {},
     "output_type": "execute_result"
    }
   ],
   "source": [
    "# This a simple arithmetic expression to mutiply then add integers\n",
    "(3*4)+5"
   ]
  },
  {
   "cell_type": "code",
   "execution_count": 9,
   "id": "b506602d-a2e4-4159-9331-72a3dc362b2f",
   "metadata": {},
   "outputs": [
    {
     "name": "stdout",
     "output_type": "stream",
     "text": [
      "200 minutes in hours = 3.3333333333333335\n"
     ]
    }
   ],
   "source": [
    "# This will convert 200 minutes to hours by diving by 60\n",
    "minutes = 200 / 60\n",
    "print(\"200 minutes in hours =\",minutes)"
   ]
  },
  {
   "cell_type": "markdown",
   "id": "ebb8ab6f-5e02-4ccf-acc3-67c442ef9267",
   "metadata": {},
   "source": [
    "## Author\n",
    "Umer Amir"
   ]
  },
  {
   "cell_type": "code",
   "execution_count": null,
   "id": "a5429cab-e4e7-415a-ab4d-d99a72fe2019",
   "metadata": {},
   "outputs": [],
   "source": []
  }
 ],
 "metadata": {
  "kernelspec": {
   "display_name": "Python 3 (ipykernel)",
   "language": "python",
   "name": "python3"
  },
  "language_info": {
   "codemirror_mode": {
    "name": "ipython",
    "version": 3
   },
   "file_extension": ".py",
   "mimetype": "text/x-python",
   "name": "python",
   "nbconvert_exporter": "python",
   "pygments_lexer": "ipython3",
   "version": "3.12.7"
  }
 },
 "nbformat": 4,
 "nbformat_minor": 5
}
